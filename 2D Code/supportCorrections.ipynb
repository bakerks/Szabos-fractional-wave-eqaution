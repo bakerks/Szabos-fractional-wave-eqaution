{
 "cells": [
  {
   "cell_type": "code",
   "execution_count": null,
   "metadata": {},
   "outputs": [],
   "source": [
    "import netgen.gui\n",
    "import math\n",
    "import numpy as np\n",
    "from ngsolve import *\n",
    "from netgen.geom2d import SplineGeometry\n"
   ]
  },
  {
   "cell_type": "markdown",
   "metadata": {},
   "source": [
    "Weights for convolution quadrature:"
   ]
  },
  {
   "cell_type": "code",
   "execution_count": null,
   "metadata": {},
   "outputs": [],
   "source": [
    "def weights(N,T,Ms,Ks):\n",
    "    \n",
    "    \n",
    "    dt = T/N\n",
    "    if Ms == 0:\n",
    "        gam = lambda z: 1-z #BDF1\n",
    "    elif Ms == 1:\n",
    "        gam = lambda z: 0.5 * (1-z) * (3-z) #BDF2\n",
    "    elif Ms == 2:\n",
    "        gam = lambda z: 2 * (1-z) / (1+z) #Trapezoidal\n",
    "        \n",
    "    \n",
    "    m = np.arange(0,(4*N)+1,1)\n",
    "    zs = np.exp(-1j * 2 * math.pi * (m) / (4*N+1))\n",
    "    lam = 10 ** (-15 / (5*N))\n",
    "\n",
    "    tmp = (np.fft.ifft(Ks(gam(lam * zs)/dt))).real\n",
    "    \n",
    "    p = np.arange(0,-N-1,-1)\n",
    "    g = (lam ** p) * tmp[0:N+1]\n",
    "  \n",
    "    return g\n"
   ]
  },
  {
   "cell_type": "markdown",
   "metadata": {},
   "source": [
    "Correction weights $w_{n1}$ and $w_{n0}$:"
   ]
  },
  {
   "cell_type": "code",
   "execution_count": null,
   "metadata": {},
   "outputs": [],
   "source": [
    "def corr_weights1(n,gamma):\n",
    "    if gamma<0:\n",
    "        wn1 = 0    \n",
    "    elif gamma>0:\n",
    "        wj = 0\n",
    "        for k in range (0,n+1):\n",
    "            wj += stored_weights[n-k] * k\n",
    "            \n",
    "        wn1 = (dt**(-gamma)*(n)**(1-gamma))/math.gamma(2-gamma) - wj \n",
    "    \n",
    "    return float(wn1)"
   ]
  },
  {
   "cell_type": "code",
   "execution_count": null,
   "metadata": {},
   "outputs": [],
   "source": [
    "def corr_weights0(n,gamma):\n",
    "    \n",
    "    w = 0\n",
    "    for k in range (0,n+1):\n",
    "        w += stored_weights[n-k] \n",
    "    \n",
    "    if gamma<0:\n",
    "        wn0 = (dt*n)**(-gamma)/math.gamma(1-gamma) - w\n",
    "    else:\n",
    "        wn0 = -corr_weights1(n,gamma) - w\n",
    "    \n",
    "    return wn0\n",
    "    "
   ]
  },
  {
   "cell_type": "markdown",
   "metadata": {},
   "source": [
    "Gauss Quadrature:"
   ]
  },
  {
   "cell_type": "code",
   "execution_count": null,
   "metadata": {},
   "outputs": [],
   "source": [
    "def gauss(N):\n",
    "    \n",
    "    beta = 0.5 / np.sqrt(1-1/((2*np.arange(1,N))**(2)))\n",
    "\n",
    "    T = np.diag(beta,1) + np.diag(beta,-1)\n",
    "    \n",
    "    D,V = np.linalg.eigh(T) #eigenvalues and eigenvectors\n",
    "    \n",
    "    j = np.argsort(D[:]) #index arrangement \n",
    "    D.sort(axis=0) #sort D\n",
    "    \n",
    "    w = 2*(V[0,j]**2)\n",
    "    \n",
    "    return (D,w)"
   ]
  },
  {
   "cell_type": "markdown",
   "metadata": {},
   "source": [
    "Gauss-Jacobi Quadrature:"
   ]
  },
  {
   "cell_type": "code",
   "execution_count": null,
   "metadata": {},
   "outputs": [],
   "source": [
    "def gaussj(n,alf,bet):\n",
    "\n",
    "    apb = alf + bet\n",
    "\n",
    "    a1 = (bet-alf)/(apb+2)\n",
    "    N1 = np.arange(2,n+1)\n",
    "    aN = (apb)*(bet-alf) / ((apb+2*N1)*(apb+2*N1-2))\n",
    "    a = np.append(a1,aN)\n",
    "\n",
    "    b1 = math.sqrt(4*(1+alf)*(1+bet) / ((apb+3)*(apb+2)**2))\n",
    "    N2 = np.arange(2,n)\n",
    "    bN = np.sqrt(4*N2*(N2+alf)*(N2+bet)*(N2+apb)/(((apb+2*N2)**2-1)*(apb+2*N2)**2))\n",
    "    b = np.append(b1,bN)\n",
    "\n",
    "    if n>1: \n",
    "        D,V = np.linalg.eigh(np.diag(a) + np.diag(b,1) + np.diag(b,-1))\n",
    "    else:\n",
    "        V = 1\n",
    "        D = a\n",
    "    \n",
    "    c = 2**(apb+1)*math.gamma(alf+1)*math.gamma(bet+1)/math.gamma(apb+2)\n",
    "\n",
    "    j = np.argsort(D[:]) #index arrangement \n",
    "    D.sort(axis=0) #sort D\n",
    "\n",
    "    if type(V)==int:\n",
    "        w = c * (V**2)\n",
    "    else:\n",
    "        w = c * (V[0,j]**2)\n",
    "\n",
    "    return (D,w)"
   ]
  },
  {
   "cell_type": "markdown",
   "metadata": {},
   "source": [
    "Compute the fractional integral:"
   ]
  },
  {
   "cell_type": "code",
   "execution_count": null,
   "metadata": {},
   "outputs": [],
   "source": [
    "def simple_fint(t,g,alpha,**nq):\n",
    "    #t = time\n",
    "    #g = function\n",
    "    #alpha = fractional integral power\n",
    "    \n",
    "    if nq is not None:\n",
    "        nq = 40\n",
    "    \n",
    "    t = np.array([t])\n",
    "    f = np.zeros(np.shape(t))\n",
    "    (xj,wj) = gaussj(nq,alpha-1,0)\n",
    "    (x,w) = gauss(nq)\n",
    "    x = (x+1)/2\n",
    "    w = w/2\n",
    "    \n",
    "    gv = np.vectorize(g)\n",
    "    \n",
    "    for j in range (0,len(t)):\n",
    "        t1 = t[j]*3/4\n",
    "        t1d = t[j]-t1\n",
    "        f[j] = ((t1d/2)**alpha)*np.dot(wj,gv((xj+1)*t1d/2+t1))\n",
    "        if t[j]>0:\n",
    "            f[j] = f[j]+(t1/2)*np.dot(w,(gv(x*t1/2)*(t[j]-t1*x/2)**(alpha-1)))\n",
    "            f[j] = f[j]+(t1/2)*np.dot(w,(gv((x+1)*t1/2)*(t[j]-t1*(x+1)/2)**(alpha-1)))\n",
    "    f = (1/math.gamma(alpha))*f\n",
    "    \n",
    "    return f[0]\n"
   ]
  }
 ],
 "metadata": {
  "kernelspec": {
   "display_name": "Python 3",
   "language": "python",
   "name": "python3"
  },
  "language_info": {
   "codemirror_mode": {
    "name": "ipython",
    "version": 3
   },
   "file_extension": ".py",
   "mimetype": "text/x-python",
   "name": "python",
   "nbconvert_exporter": "python",
   "pygments_lexer": "ipython3",
   "version": "3.8.3"
  }
 },
 "nbformat": 4,
 "nbformat_minor": 4
}
