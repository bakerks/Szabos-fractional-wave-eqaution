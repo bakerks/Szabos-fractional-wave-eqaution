{
 "cells": [
  {
   "cell_type": "markdown",
   "metadata": {},
   "source": [
    "Approximates the solution to Szabos fractional wave equation using schemes with and without correction terms within the approximation of the fractional derivatives, corresponding schemes are seen in Eqs 3.9 and 3.8 respectively. This notebook contains 2 examples, one with a smooth solution (used to make Fig 3) and the other nonsmooth. "
   ]
  },
  {
   "cell_type": "markdown",
   "metadata": {},
   "source": [
    "Run the support that contains start up packages and weights codes:"
   ]
  },
  {
   "cell_type": "code",
   "execution_count": 1,
   "metadata": {},
   "outputs": [],
   "source": [
    "#For .py:\n",
    "#exec(open(\"supportCorrections.py\").read())\n",
    "\n",
    "#For .ipynb:\n",
    "%run supportCorrections.ipynb"
   ]
  },
  {
   "cell_type": "markdown",
   "metadata": {},
   "source": [
    "Set Parameters"
   ]
  },
  {
   "cell_type": "code",
   "execution_count": 2,
   "metadata": {},
   "outputs": [],
   "source": [
    "dx = 0.125 #space meshsize\n",
    "dt = dx/10 #time step size\n",
    "\n",
    "tend = 2 #end time\n",
    "N = int(tend/dt) #number of time steps\n",
    "dt = tend/N\n",
    "\n",
    "gamma = 0.7 #order of fractional derivative\n",
    "a0 = 1 \n",
    "\n",
    "#constant in front of FD\n",
    "#A=0 #set =0 to remove fd\n",
    "A = -a0*(4/math.pi)*math.gamma(-gamma-1)*math.gamma(gamma+2)*cos((gamma+1)*(math.pi/2))\n",
    "\n",
    "\n",
    "B=1 #B=0 to remove corrections\n",
    "\n",
    "p=2 #p=1 for BDF1, p=2 for BDF2 within CQ\n",
    "\n",
    "#Controls extra terms required for higher order derivatives\n",
    "if gamma<0:\n",
    "    X = 0\n",
    "else:\n",
    "    X = 1-B\n",
    "\n",
    "cgam = ceil(gamma)"
   ]
  },
  {
   "cell_type": "markdown",
   "metadata": {},
   "source": [
    "Set up the problem with the exact solution:"
   ]
  },
  {
   "cell_type": "code",
   "execution_count": 3,
   "metadata": {},
   "outputs": [],
   "source": [
    "#Example 1: Smooth case\n",
    "c1 = 24\n",
    "c2 = 12\n",
    "\n",
    "def exact_time(tn):\n",
    "    return sin(c1*tn) + cos(c2*tn)\n",
    "\n",
    "def dexact_time(tn):\n",
    "    return c1*cos(c1*tn) - c2*sin(c2*tn)\n",
    "\n",
    "def ddexact_time(tn):\n",
    "    return -c1**2*sin(c1*tn) - c2**2*cos(c2*tn)\n",
    "\n",
    "#Example 2: Non-Smooth case\n",
    "#def exact_time(tn):\n",
    " #   return 1+ tn + tn**2 - 2*tn**(2+cgam-gamma)/(math.gamma(2-gamma)*(3-gamma)*(2-gamma))\n",
    "\n",
    "#def dexact_time(tn):\n",
    " #   return 1+ 2*tn - 2*(2+cgam-gamma)*tn**(1+cgam-gamma)/(math.gamma(2-gamma)*(3-gamma)*(2-gamma))\n",
    "\n",
    "#def ddexact_time(tn):\n",
    " #   return 2 - 2*(2+cgam -gamma)*(1+cgam-gamma)*tn**(cgam-gamma)/(math.gamma(2-gamma)*(3-gamma)*(2-gamma))\n",
    "    \n",
    "    \n",
    "#Full term\n",
    "def exact(tn):\n",
    "    return exact_time(tn)*sin(math.pi * x)*sin(math.pi * y)\n",
    "\n",
    "def dexact(tn):\n",
    "    return dexact_time(tn)*sin(math.pi * x)*sin(math.pi * y)\n"
   ]
  },
  {
   "cell_type": "markdown",
   "metadata": {},
   "source": [
    "Generate mesh and finite element materials"
   ]
  },
  {
   "cell_type": "code",
   "execution_count": 4,
   "metadata": {},
   "outputs": [
    {
     "data": {
      "text/plain": [
       "<ngsolve.comp.BilinearForm at 0x196670d1870>"
      ]
     },
     "execution_count": 4,
     "metadata": {},
     "output_type": "execute_result"
    }
   ],
   "source": [
    "geo = SplineGeometry()\n",
    "geo.AddRectangle( (-1, -1), (1, 1), bcs = (\"bottom\", \"right\", \"top\", \"left\"))\n",
    "mesh = Mesh( geo.GenerateMesh(maxh=dx))\n",
    "fes = H1(mesh, order=1, dirichlet=\"bottom|right|left|top\")\n",
    "u = fes.TrialFunction()\n",
    "v = fes.TestFunction()\n",
    "\n",
    "#generate stiffness and mass matrices\n",
    "a=BilinearForm(fes,symmetric=False)\n",
    "a+=SymbolicBFI(grad(u)*grad(v))\n",
    "a.Assemble()\n",
    "\n",
    "m=BilinearForm(fes,symmetric=False)\n",
    "m+=SymbolicBFI(u*v)\n",
    "m.Assemble()"
   ]
  },
  {
   "cell_type": "markdown",
   "metadata": {},
   "source": [
    "Define the function f, which forces u to be an exact solution"
   ]
  },
  {
   "cell_type": "code",
   "execution_count": 5,
   "metadata": {},
   "outputs": [
    {
     "data": {
      "text/plain": [
       "<ngsolve.comp.LinearForm at 0x196671a6570>"
      ]
     },
     "execution_count": 5,
     "metadata": {},
     "output_type": "execute_result"
    }
   ],
   "source": [
    "def f_time(t):\n",
    "    if ceil(gamma) == 0:\n",
    "        ans= ddexact_time(t) + (2*(math.pi)**2)*(exact_time(t)) + A*simple_fint(t,dexact_time,ceil(gamma)-gamma)\n",
    "    else:\n",
    "        ans= ddexact_time(t) + (2*(math.pi)**2)*(exact_time(t)) + A*simple_fint(t,ddexact_time,ceil(gamma)-gamma)\n",
    "    return float(ans)\n",
    "\n",
    "f_space_exact = sin(math.pi * x) *sin(math.pi *y)\n",
    "\n",
    "f_space = LinearForm(fes)\n",
    "f_space += SymbolicLFI(f_space_exact*v)\n",
    "f_space.Assemble()"
   ]
  },
  {
   "cell_type": "markdown",
   "metadata": {},
   "source": [
    "Define initial conditions"
   ]
  },
  {
   "cell_type": "code",
   "execution_count": 6,
   "metadata": {},
   "outputs": [],
   "source": [
    "un1=GridFunction(fes) #u0 / u_{n-1}\n",
    "un1.Set(exact_time(0)*sin(math.pi*x)*sin(math.pi*y))\n",
    "\n",
    "un=GridFunction(fes) #u1 / u_n\n",
    "un.Set((exact_time(0)+dt*dexact_time(0)+0.5*dt**2 *ddexact_time(0))*sin(math.pi*x)*sin(math.pi*y))\n",
    "Draw(un,mesh,\"u\")\n",
    "\n",
    "V0=GridFunction(fes) #v0\n",
    "V0.Set(dexact_time(0)*sin(math.pi*x)*sin(math.pi*y))\n",
    "\n",
    "V1=GridFunction(fes) #v1 placeholder\n",
    "V1.Set(0*x*y)\n",
    "V1 = V1.vec"
   ]
  },
  {
   "cell_type": "markdown",
   "metadata": {},
   "source": [
    "Gather weights for CQ"
   ]
  },
  {
   "cell_type": "code",
   "execution_count": 7,
   "metadata": {},
   "outputs": [],
   "source": [
    "stored_weights = weights(N,tend,p-1, lambda s: s**gamma)\n",
    "w0 = float(stored_weights[0])"
   ]
  },
  {
   "cell_type": "markdown",
   "metadata": {},
   "source": [
    "Invert the matrices that scale $u_{n+1}$"
   ]
  },
  {
   "cell_type": "code",
   "execution_count": 8,
   "metadata": {},
   "outputs": [],
   "source": [
    "#make matrix that will be inverted in the first step only - to help calculate v1\n",
    "mstar_initial=m.mat.CreateMatrix()\n",
    "mstar_initial.AsVector().data=(1 + ((A * dt * w0)/2) + (A * B * (dt * corr_weights1(1,gamma))/2) )* m.mat.AsVector()\n",
    "invmstar_initial=mstar_initial.Inverse(freedofs=fes.FreeDofs())\n",
    "\n",
    "#make matrix that will be inverted during every other time step\n",
    "mstar=m.mat.CreateMatrix()\n",
    "mstar.AsVector().data=(1 + ((A * dt * w0)/2)) * m.mat.AsVector()\n",
    "invmstar=mstar.Inverse(freedofs=fes.FreeDofs())"
   ]
  },
  {
   "cell_type": "markdown",
   "metadata": {},
   "source": [
    "Create stores for $u$s and $v$s"
   ]
  },
  {
   "cell_type": "code",
   "execution_count": 9,
   "metadata": {},
   "outputs": [],
   "source": [
    "#store u0 and u1 as numpy arrays with a vector of zeros as a placeholder for u2\n",
    "u_storage = np.array([un1.vec.FV().NumPy()[:], un.vec.FV().NumPy()[:], np.zeros(len(un1.vec))])\n",
    "\n",
    "#create a storage space for v's\n",
    "v_storage = np.zeros((N,len(V0.vec)))\n",
    "v_storage[0,:] = V0.vec.FV().NumPy()[:]"
   ]
  },
  {
   "cell_type": "markdown",
   "metadata": {},
   "source": [
    "Create a vector to store the new solution"
   ]
  },
  {
   "cell_type": "code",
   "execution_count": 10,
   "metadata": {},
   "outputs": [],
   "source": [
    "res = un.vec.CreateVector()"
   ]
  },
  {
   "cell_type": "markdown",
   "metadata": {},
   "source": [
    "Initiate error"
   ]
  },
  {
   "cell_type": "code",
   "execution_count": 11,
   "metadata": {},
   "outputs": [],
   "source": [
    "error = 0"
   ]
  },
  {
   "cell_type": "markdown",
   "metadata": {},
   "source": [
    "Do the time stepping"
   ]
  },
  {
   "cell_type": "code",
   "execution_count": 12,
   "metadata": {},
   "outputs": [],
   "source": [
    "for n in range(1,N):\n",
    "    \n",
    "    #so we can calulate the first step differently to get V1\n",
    "    if n==1:\n",
    "        D=0\n",
    "    else:\n",
    "        D=1\n",
    "\n",
    "    #compute the approximation of the fractional derivative\n",
    "    CQ = np.zeros(len(un.vec))\n",
    "    for k in range (0, n):\n",
    "            CQ +=stored_weights[n-k] * (v_storage[k] - X*v_storage[0])\n",
    "    \n",
    "    #make this useable - via temporary vector\n",
    "    temp = un.vec.CreateVector()\n",
    "    temp.FV().NumPy()[:] = CQ \n",
    "    \n",
    "    #run scheme\n",
    "    res.data = dt * dt * f_time(n*dt) * f_space.vec\n",
    "    res.data += 2 * m.mat * un.vec \n",
    "    res.data -= m.mat * un1.vec \n",
    "    res.data -= dt * dt * a.mat * un.vec \n",
    "    res.data -= A * dt**2 * m.mat * temp\n",
    "    res.data += A * 0.5 * dt * w0 * m.mat * un1.vec\n",
    "    res.data += A * dt**2 * X *w0* m.mat * V0.vec \n",
    "    \n",
    "    res.data -= A * B * dt**2 * corr_weights0(n,gamma) * m.mat * V0.vec \n",
    "    res.data -= A * B * D * dt**2 * corr_weights1(n,gamma) * m.mat * V1 \n",
    "    res.data += A * B * (1-D)  * dt * 0.5 * corr_weights1(1,gamma) * m.mat * un1.vec \n",
    "    \n",
    "    \n",
    "    #redefine u_n and u_{n-1}\n",
    "    un1.vec.data = un.vec\n",
    "     \n",
    "    if n==1:\n",
    "        un.vec.data = invmstar_initial * res\n",
    "    else:\n",
    "        un.vec.data = invmstar * res\n",
    "    \n",
    "    #add new data into u_storage\n",
    "    if n==1:\n",
    "        u_storage[2] = un.vec.FV().NumPy()[:]\n",
    "    else:\n",
    "        u_storage[0] = u_storage[1]\n",
    "        u_storage[1] = u_storage[2]\n",
    "        u_storage[2] = un.vec.FV().NumPy()[:]\n",
    "    \n",
    "    #calculate new v   \n",
    "    v_new = np.array([(u_storage[-1] - u_storage[-3])/(2*dt)])\n",
    "    \n",
    "    #for the first step replace the v1 placeholder with v1\n",
    "    if n==1:\n",
    "        temp2 = un.vec.CreateVector()\n",
    "        temp2.FV().NumPy()[:] = v_new \n",
    "        V1 = temp2\n",
    "    \n",
    "    #add this to the v array    \n",
    "    v_storage[n,:] = v_new \n",
    "    \n",
    "    Redraw(blocking=True)\n",
    "    \n",
    "    #error calculation\n",
    "    error = max(error,sqrt (Integrate ( (un-exact((n+1)*dt))*(un-exact((n+1)*dt)), mesh)))\n"
   ]
  },
  {
   "cell_type": "markdown",
   "metadata": {},
   "source": [
    "Print error"
   ]
  },
  {
   "cell_type": "code",
   "execution_count": 13,
   "metadata": {},
   "outputs": [
    {
     "name": "stdout",
     "output_type": "stream",
     "text": [
      "Max l2 error: 0.03173341847970479\n",
      "End L2 error: 0.010309945825038335\n"
     ]
    }
   ],
   "source": [
    "print(\"Max l2 error:\" , error)\n",
    "print (\"End L2 error:\", sqrt (Integrate ( (un-exact((n+1)*dt))*(un-exact((n+1)*dt)), mesh)))"
   ]
  },
  {
   "cell_type": "code",
   "execution_count": null,
   "metadata": {},
   "outputs": [],
   "source": []
  }
 ],
 "metadata": {
  "kernelspec": {
   "display_name": "Python 3",
   "language": "python",
   "name": "python3"
  },
  "language_info": {
   "codemirror_mode": {
    "name": "ipython",
    "version": 3
   },
   "file_extension": ".py",
   "mimetype": "text/x-python",
   "name": "python",
   "nbconvert_exporter": "python",
   "pygments_lexer": "ipython3",
   "version": "3.8.3"
  }
 },
 "nbformat": 4,
 "nbformat_minor": 4
}
